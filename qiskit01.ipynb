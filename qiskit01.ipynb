{
 "cells": [
  {
   "cell_type": "markdown",
   "metadata": {},
   "source": [
    "# Basic Qiskit Syntax\n",
    "\n",
    "tutorial taken from: https://qiskit.org/textbook/ch-appendix/qiskit.html"
   ]
  },
  {
   "cell_type": "code",
   "execution_count": 2,
   "metadata": {},
   "outputs": [
    {
     "name": "stdout",
     "output_type": "stream",
     "text": [
      "qiskit version: 0.20.2\n"
     ]
    }
   ],
   "source": [
    "import qiskit\n",
    "from qiskit import QuantumCircuit\n",
    "print(\"qiskit version: {}\".format(qiskit.__version__))"
   ]
  },
  {
   "cell_type": "code",
   "execution_count": 3,
   "metadata": {},
   "outputs": [],
   "source": [
    "qc = QuantumCircuit() # empty circuit object: no qubits, no outputs"
   ]
  },
  {
   "cell_type": "code",
   "execution_count": 4,
   "metadata": {},
   "outputs": [],
   "source": [
    "from qiskit import QuantumRegister"
   ]
  },
  {
   "cell_type": "code",
   "execution_count": 5,
   "metadata": {},
   "outputs": [],
   "source": [
    "numBits = 2\n",
    "regName = 'a' # optional\n",
    "qr = QuantumRegister(size=numBits, name=regName)"
   ]
  },
  {
   "cell_type": "code",
   "execution_count": 6,
   "metadata": {},
   "outputs": [
    {
     "data": {
      "text/plain": [
       "[QuantumRegister(2, 'a')]"
      ]
     },
     "execution_count": 6,
     "metadata": {},
     "output_type": "execute_result"
    }
   ],
   "source": [
    "try:\n",
    "    qc.add_register(qr)\n",
    "except Exception as e:\n",
    "    print(\"{}: {}\".format(type(e).__name__, e))\n",
    "    \n",
    "qc.qregs"
   ]
  },
  {
   "cell_type": "code",
   "execution_count": 7,
   "metadata": {},
   "outputs": [
    {
     "data": {
      "text/html": [
       "<pre style=\"word-wrap: normal;white-space: pre;background: #fff0;line-height: 1.1;font-family: &quot;Courier New&quot;,Courier,monospace\">     \n",
       "a_0: \n",
       "     \n",
       "a_1: \n",
       "     </pre>"
      ],
      "text/plain": [
       "     \n",
       "a_0: \n",
       "     \n",
       "a_1: \n",
       "     "
      ]
     },
     "execution_count": 7,
     "metadata": {},
     "output_type": "execute_result"
    }
   ],
   "source": [
    "qc.draw() # By default, the quibots are in state |0>"
   ]
  },
  {
   "cell_type": "code",
   "execution_count": 8,
   "metadata": {},
   "outputs": [
    {
     "data": {
      "text/plain": [
       "<qiskit.circuit.instructionset.InstructionSet at 0x21e2e398ac0>"
      ]
     },
     "execution_count": 8,
     "metadata": {},
     "output_type": "execute_result"
    }
   ],
   "source": [
    "qc.h(qr[0]) # specify the qubits to be acted upon"
   ]
  },
  {
   "cell_type": "code",
   "execution_count": 9,
   "metadata": {},
   "outputs": [
    {
     "data": {
      "text/html": [
       "<pre style=\"word-wrap: normal;white-space: pre;background: #fff0;line-height: 1.1;font-family: &quot;Courier New&quot;,Courier,monospace\">     ┌───┐     \n",
       "a_0: ┤ H ├──■──\n",
       "     └───┘┌─┴─┐\n",
       "a_1: ─────┤ X ├\n",
       "          └───┘</pre>"
      ],
      "text/plain": [
       "     ┌───┐     \n",
       "a_0: ┤ H ├──■──\n",
       "     └───┘┌─┴─┐\n",
       "a_1: ─────┤ X ├\n",
       "          └───┘"
      ]
     },
     "execution_count": 9,
     "metadata": {},
     "output_type": "execute_result"
    }
   ],
   "source": [
    "#add a controlled-NOT gate to the circuit\n",
    "qc.cx(control_qubit= qr[0], target_qubit=qr[1])\n",
    "\n",
    "# draw it\n",
    "qc.draw()"
   ]
  },
  {
   "cell_type": "markdown",
   "metadata": {},
   "source": [
    "### Aer simulator\n",
    "Use 'aer simulator' to see whaat is happening to the state vector of the two qubits."
   ]
  },
  {
   "cell_type": "code",
   "execution_count": 10,
   "metadata": {},
   "outputs": [],
   "source": [
    "from qiskit import Aer # Aer is the interface to the Qiskit Aer simulator\n",
    "from qiskit import assemble\n",
    "\"\"\"\n",
    "In Qiskit Aer, the quantum circuit is executed by simulating the qubits.\n",
    "To set up a job for a backend, we need to set up the corresponding backend object.\n",
    "\n",
    "All the simulators are 'local' -> no need to sign up to IBMQ user agreement\n",
    "\n",
    "To run the simulation we need to assemble the circuit into a `Qobj` which contains\n",
    "the circuit as weel as other information about how to run the experiment.\n",
    "\n",
    "\"\"\"\n",
    "sv_sim = Aer.get_backend('aer_simulator')\n",
    "qc.save_statevector()\n",
    "qobj = assemble(qc)\n",
    "job_handler = sv_sim.run(qobj) # ALl we need from the job handler is the result, specifically the statevector"
   ]
  },
  {
   "cell_type": "code",
   "execution_count": 11,
   "metadata": {},
   "outputs": [
    {
     "name": "stdout",
     "output_type": "stream",
     "text": [
      "0.7071+0.0000j\n",
      "0.0000+0.0000j\n",
      "0.0000+0.0000j\n",
      "0.7071+0.0000j\n"
     ]
    },
    {
     "name": "stderr",
     "output_type": "stream",
     "text": [
      "<ipython-input-11-a3f9d888de08>:2: DeprecationWarning: The return type of saved statevectors has been changed from a `numpy.ndarray` to a `qiskit.quantum_info.Statevector` as of qiskit-aer 0.10. Accessing numpy array attributes is deprecated and will result in an error in a future release. To continue using saved result objects as arrays you can explicitly cast them using  `np.asarray(object)`.\n",
      "  for amplitude in ket:\n"
     ]
    }
   ],
   "source": [
    "ket = job_handler.result().get_statevector()\n",
    "for amplitude in ket:\n",
    "    print(\"{:.4f}\".format(amplitude)) # that's the vecotr for a Bell state: (|00> + |11>)/sqrt(2)"
   ]
  },
  {
   "cell_type": "markdown",
   "metadata": {},
   "source": [
    "#### Initialize a circuit with an arbitry pure state"
   ]
  },
  {
   "cell_type": "code",
   "execution_count": 12,
   "metadata": {},
   "outputs": [
    {
     "data": {
      "text/plain": [
       "<qiskit.circuit.instructionset.InstructionSet at 0x21e3064cfc0>"
      ]
     },
     "execution_count": 12,
     "metadata": {},
     "output_type": "execute_result"
    }
   ],
   "source": [
    "new_qc = QuantumCircuit(qr)\n",
    "\n",
    "new_qc.initialize(ket, qr)"
   ]
  },
  {
   "cell_type": "markdown",
   "metadata": {},
   "source": [
    "### Classical registers and the Aer simulator\n",
    "\n",
    "In the simulation we got a statevector, but that's **not** what we'd get from a real quantum computer: for that we need **measurements** and **registers**."
   ]
  },
  {
   "cell_type": "code",
   "execution_count": 13,
   "metadata": {},
   "outputs": [],
   "source": [
    "from qiskit import ClassicalRegister\n",
    "nBits = 2\n",
    "name = 'creg'\n",
    "cr = ClassicalRegister(size=nBits, name=name)\n",
    "\n",
    "qc.add_register(cr)\n"
   ]
  },
  {
   "cell_type": "markdown",
   "metadata": {},
   "source": [
    "Now we can use the *measure()* method of the quantum circuit. This requires two arguments: \n",
    "1. the quibit being measured\n",
    "2. the bit where the result is written"
   ]
  },
  {
   "cell_type": "code",
   "execution_count": 14,
   "metadata": {},
   "outputs": [
    {
     "data": {
      "text/html": [
       "<pre style=\"word-wrap: normal;white-space: pre;background: #fff0;line-height: 1.1;font-family: &quot;Courier New&quot;,Courier,monospace\">        ┌───┐      ░ ┌─┐   \n",
       "   a_0: ┤ H ├──■───░─┤M├───\n",
       "        └───┘┌─┴─┐ ░ └╥┘┌─┐\n",
       "   a_1: ─────┤ X ├─░──╫─┤M├\n",
       "             └───┘ ░  ║ └╥┘\n",
       "creg: 2/══════════════╩══╩═\n",
       "                      0  1 </pre>"
      ],
      "text/plain": [
       "        ┌───┐      ░ ┌─┐   \n",
       "   a_0: ┤ H ├──■───░─┤M├───\n",
       "        └───┘┌─┴─┐ ░ └╥┘┌─┐\n",
       "   a_1: ─────┤ X ├─░──╫─┤M├\n",
       "             └───┘ ░  ║ └╥┘\n",
       "creg: 2/══════════════╩══╩═\n",
       "                      0  1 "
      ]
     },
     "execution_count": 14,
     "metadata": {},
     "output_type": "execute_result"
    }
   ],
   "source": [
    "qBitToMeasure0, cbitToStoreResult0  = qr[0], cr[0]\n",
    "qBitToMeasure1, cbitToStoreResult1  = qr[1], cr[1]\n",
    "\n",
    "qc.measure(qBitToMeasure0, cbitToStoreResult0)\n",
    "qc.measure(qBitToMeasure1, cbitToStoreResult1)\n",
    "\n",
    "# draw it\n",
    "qc.draw()"
   ]
  },
  {
   "cell_type": "code",
   "execution_count": 15,
   "metadata": {},
   "outputs": [
    {
     "name": "stdout",
     "output_type": "stream",
     "text": [
      "['00', '00', '00', '11', '00', '11', '11', '00', '00', '11', '00', '00', '11', '11', '00', '11', '00', '11', '00', '11', '00', '00', '11', '00', '11', '00', '00', '00', '11', '00', '00', '11', '00', '11', '00', '00', '00', '00', '11', '00', '11', '11', '11', '11', '11', '00', '00', '11', '00', '00', '11', '00', '00', '11', '00', '11', '00', '11', '11', '11', '11', '11', '00', '11', '11', '00', '00', '00', '11', '11', '11', '00', '11', '11', '00', '11', '00', '11', '00', '11', '11', '11', '11', '11', '00', '11', '11', '11', '11', '11', '00', '00', '11', '11', '00', '00', '11', '11', '11', '00', '11', '00', '00', '00', '11', '11', '00', '00', '00', '00', '00', '00', '11', '00', '00', '11', '00', '00', '00', '00', '11', '11', '00', '11', '11', '00', '00', '00', '00', '11', '00', '00', '11', '11', '11', '11', '00', '00', '00', '00', '00', '11', '11', '00', '00', '00', '00', '11', '00', '11', '11', '11', '00', '00', '11', '00', '00', '11', '11', '11', '00', '11', '00', '11', '00', '11', '11', '00', '11', '00', '00', '11', '11', '11', '11', '11', '00', '00', '00', '00', '00', '11', '00', '00', '11', '00', '00', '00', '00', '00', '11', '11', '00', '11', '00', '11', '11', '00', '00', '00', '11', '00', '11', '11', '11', '11', '11', '11', '11', '00', '00', '00', '11', '00', '00', '00', '00', '11', '00', '00', '11', '00', '11', '11', '11', '11', '11', '11', '11', '00', '00', '00', '00', '11', '00', '11', '11', '11', '11', '00', '11', '00', '11', '00', '11', '11', '00', '11', '11', '11', '11', '00', '11', '00', '00', '00', '00', '00', '11', '11', '11', '00', '11', '00', '00', '00', '11', '11', '11', '00', '00', '00', '00', '00', '11', '11', '00', '11', '11', '00', '11', '11', '11', '11', '11', '11', '11', '00', '00', '00', '00', '00', '00', '00', '11', '00', '11', '11', '11', '11', '00', '00', '00', '11', '11', '11', '00', '00', '11', '00', '11', '00', '00', '11', '11', '00', '11', '00', '11', '00', '11', '00', '00', '11', '11', '11', '11', '00', '11', '00', '00', '00', '00', '00', '00', '11', '00', '11', '11', '00', '00', '00', '00', '11', '00', '11', '11', '11', '11', '00', '00', '11', '11', '11', '11', '11', '00', '11', '11', '00', '11', '00', '00', '11', '00', '00', '00', '11', '11', '11', '00', '11', '00', '00', '00', '11', '11', '11', '00', '00', '11', '11', '11', '00', '00', '00', '11', '11', '11', '00', '00', '11', '11', '00', '11', '11', '00', '11', '00', '00', '00', '00', '00', '11', '11', '11', '00', '11', '00', '11', '11', '11', '00', '00', '11', '11', '00', '11', '11', '00', '11', '00', '00', '00', '00', '00', '00', '00', '11', '00', '11', '00', '11', '00', '00', '00', '11', '11', '00', '00', '11', '11', '00', '11', '11', '11', '00', '11', '00', '00', '00', '00', '00', '11', '11', '11', '00', '11', '11', '00', '00', '11', '00', '00', '00', '00', '11', '11', '00', '00', '11', '00', '11', '11', '00', '11', '00', '11', '00', '11', '11', '00', '00', '11', '00', '00', '11', '11', '11', '00', '11', '11', '11', '11', '11', '11', '00', '00', '11', '00', '11', '00', '11', '11', '11', '11', '11', '11', '11', '11', '00', '11', '11', '00', '00', '11', '11', '11', '00', '11', '11', '00', '00', '11', '11', '11', '00', '00', '11', '00', '00', '00', '11', '00', '00', '11', '00', '11', '00', '00', '00', '00', '11', '11', '11', '11', '00', '00', '11', '00', '11', '11', '00', '11', '11', '11', '11', '00', '11', '11', '11', '11', '00', '11', '00', '00', '00', '00', '11', '11', '00', '00', '11', '00', '00', '00', '11', '11', '00', '11', '11', '11', '11', '11', '00', '11', '00', '11', '00', '00', '11', '11', '00', '00', '11', '11', '11', '00', '11', '11', '11', '11', '11', '11', '00', '11', '00', '11', '00', '11', '11', '00', '00', '11', '00', '11', '11', '00', '00', '11', '00', '00', '11', '11', '00', '11', '00', '11', '11', '11', '11', '11', '11', '11', '11', '11', '00', '00', '00', '00', '00', '00', '11', '00', '11', '00', '00', '00', '00', '11', '00', '00', '00', '00', '11', '00', '11', '00', '11', '11', '00', '00', '11', '11', '11', '00', '00', '00', '00', '00', '00', '00', '00', '11', '00', '00', '11', '00', '11', '11', '00', '11', '11', '00', '11', '11', '11', '00', '00', '00', '11', '00', '00', '11', '11', '11', '00', '00', '00', '11', '00', '00', '00', '11', '00', '11', '00', '00', '11', '00', '11', '11', '00', '00', '11', '11', '11', '00', '11', '00', '00', '11', '11', '00', '00', '00', '00', '11', '00', '11', '00', '11', '11', '11', '00', '11', '11', '00', '11', '00', '00', '11', '11', '11', '11', '11', '00', '00', '11', '11', '11', '00', '11', '11', '00', '00', '00', '00', '00', '00', '11', '11', '00', '00', '00', '00', '11', '11', '11', '00', '11', '00', '00', '00', '11', '00', '00', '00', '11', '00', '00', '00', '00', '11', '00', '00', '11', '00', '00', '11', '11', '11', '11', '11', '11', '11', '00', '00', '11', '00', '11', '11', '11', '11', '00', '11', '11', '11', '11', '00', '00', '00', '00', '00', '11', '00', '00', '11', '11', '11', '00', '00', '00', '00', '11', '11', '00', '11', '00', '11', '00', '11', '11', '00', '11', '11', '11', '00', '00', '11', '11', '00', '00', '11', '11', '00', '11', '11', '00', '00', '11', '00', '00', '00', '11', '11', '00', '11', '11', '00', '11', '11', '11', '00', '00', '11', '00', '11', '11', '00', '00', '00', '11', '11', '00', '11', '00', '11', '00', '00', '00', '00', '00', '11', '11', '00', '00', '11', '11', '00', '00', '00', '11', '11', '00', '00', '00', '00', '11', '11', '11', '11', '00', '11', '11', '11', '00', '00', '00', '11', '00', '11', '11', '00', '11', '00', '00', '00', '00', '00', '11', '11', '00', '11', '11', '11', '11', '00', '00', '11', '00', '00', '11', '00', '00', '00', '11', '00', '11', '00', '11', '00', '00', '00', '11', '00', '11', '00', '00', '11', '00', '11', '00', '11', '11', '11', '11', '11', '00', '11', '00', '11', '11', '11', '11', '00', '11', '00', '00', '00', '00', '11', '00', '00', '11', '11', '00', '00', '00', '11', '00', '11', '11', '00', '11', '00', '11', '11', '00', '00', '00', '00', '00', '11', '11', '11', '00', '00', '11', '00', '11', '11', '11', '11', '00', '11', '00', '11', '00', '11', '00', '00', '11', '11', '00', '00', '11', '11', '00', '00', '00', '11', '00', '11']\n"
     ]
    }
   ],
   "source": [
    "memory = True # for compatible backends, we can get the ordered list of results\n",
    "aer_sim = Aer.get_backend('aer_simulator')\n",
    "qobj = assemble(qc, shots=1024)\n",
    "job_handler = aer_sim.run(qobj, memory=memory)\n",
    "samples = job_handler.result().get_memory()\n",
    "print(samples)"
   ]
  },
  {
   "cell_type": "markdown",
   "metadata": {},
   "source": [
    "The result is an histogram in the form of a Python dictionary. Use print to display this for us."
   ]
  },
  {
   "cell_type": "code",
   "execution_count": 16,
   "metadata": {},
   "outputs": [
    {
     "name": "stdout",
     "output_type": "stream",
     "text": [
      "{'00': 512, '11': 512}\n"
     ]
    }
   ],
   "source": [
    "hist = job_handler.result().get_counts()\n",
    "print(hist)"
   ]
  },
  {
   "cell_type": "code",
   "execution_count": 17,
   "metadata": {},
   "outputs": [
    {
     "data": {
      "image/png": "[encoded data removed]",
      "text/plain": [
       "<Figure size 700x500 with 1 Axes>"
      ]
     },
     "execution_count": 17,
     "metadata": {},
     "output_type": "execute_result"
    }
   ],
   "source": [
    "from qiskit.visualization import plot_histogram\n",
    "plot_histogram(hist)"
   ]
  },
  {
   "cell_type": "markdown",
   "metadata": {},
   "source": [
    "> **Note:** bits are labelled from right to left. So `cr[0]` is the one to the furthest right, and so on. As an example of this, here's an 8 qubit circuit with a **Pauli X** on only the qubit #7, which has its output stored to the bit numbered #7"
   ]
  },
  {
   "cell_type": "code",
   "execution_count": 19,
   "metadata": {},
   "outputs": [
    {
     "name": "stdout",
     "output_type": "stream",
     "text": [
      "{'10000000': 1024}\n"
     ]
    }
   ],
   "source": [
    "# create 8 quantum registers\n",
    "qr8 = QuantumRegister(size=8, name='qr8')\n",
    "# ... and 8 classical registers\n",
    "cr8 = ClassicalRegister(size=8, name='cr8')\n",
    "\n",
    "# create a new circuit with the newly created registers\n",
    "qc8 = QuantumCircuit(qr8, cr8)\n",
    "\n",
    "qc8.x(qubit = qr8[7]) # Apply the pauli X gate\n",
    "qc8.measure(qr8, cr8) # this is a way to do all the measurements at once\n",
    "\n",
    "qobj = assemble(qc8, shots=1024)\n",
    "hist = aer_sim.run(qobj).result().get_counts()\n",
    "print(hist) # note the qr8[7] bit (the last one) is displayed in the first position once printed"
   ]
  },
  {
   "cell_type": "markdown",
   "metadata": {},
   "source": [
    "#### Simplified notation\n",
    "\n",
    "When creating a QuantumCircuit, we either pass:\n",
    "- the quantum/classical register instances\n",
    "- or the number of qubits/classical bit to be included"
   ]
  },
  {
   "cell_type": "code",
   "execution_count": 20,
   "metadata": {},
   "outputs": [
    {
     "data": {
      "text/html": [
       "<pre style=\"word-wrap: normal;white-space: pre;background: #fff0;line-height: 1.1;font-family: &quot;Courier New&quot;,Courier,monospace\">          \n",
       "q_0: ─────\n",
       "     ┌───┐\n",
       "q_1: ┤ H ├\n",
       "     └───┘\n",
       "q_2: ─────\n",
       "          </pre>"
      ],
      "text/plain": [
       "          \n",
       "q_0: ─────\n",
       "     ┌───┐\n",
       "q_1: ┤ H ├\n",
       "     └───┘\n",
       "q_2: ─────\n",
       "          "
      ]
     },
     "execution_count": 20,
     "metadata": {},
     "output_type": "execute_result"
    }
   ],
   "source": [
    "nQubits = 3\n",
    "qc = QuantumCircuit(nQubits) # by def. it creates a single QuantumRegister\n",
    "\n",
    "# refer to the qubits by their index\n",
    "qc.h(1) # apply the Hadamard gate to the first qubit\n",
    "qc.draw()"
   ]
  },
  {
   "cell_type": "code",
   "execution_count": 21,
   "metadata": {},
   "outputs": [
    {
     "data": {
      "text/html": [
       "<pre style=\"word-wrap: normal;white-space: pre;background: #fff0;line-height: 1.1;font-family: &quot;Courier New&quot;,Courier,monospace\">     ┌───┐        \n",
       "q_0: ┤ H ├──■─────\n",
       "     └───┘┌─┴─┐┌─┐\n",
       "q_1: ─────┤ X ├┤M├\n",
       "          └───┘└╥┘\n",
       "c: 1/═══════════╩═\n",
       "                0 </pre>"
      ],
      "text/plain": [
       "     ┌───┐        \n",
       "q_0: ┤ H ├──■─────\n",
       "     └───┘┌─┴─┐┌─┐\n",
       "q_1: ─────┤ X ├┤M├\n",
       "          └───┘└╥┘\n",
       "c: 1/═══════════╩═\n",
       "                0 "
      ]
     },
     "execution_count": 21,
     "metadata": {},
     "output_type": "execute_result"
    }
   ],
   "source": [
    "qc = QuantumCircuit(2,1) # Creates a Quantum and a CLassical Register\n",
    "qc.h(0)\n",
    "qc.cx(control_qubit= 0, target_qubit = 1)\n",
    "qc.measure(1,0)\n",
    "\n",
    "qc.draw()\n"
   ]
  },
  {
   "cell_type": "markdown",
   "metadata": {},
   "source": [
    "#### Creating custom gates\n",
    "\n",
    "It is possible to combine different circuits to make bigger and custom gates."
   ]
  },
  {
   "cell_type": "code",
   "execution_count": 22,
   "metadata": {},
   "outputs": [
    {
     "data": {
      "text/html": [
       "<pre style=\"word-wrap: normal;white-space: pre;background: #fff0;line-height: 1.1;font-family: &quot;Courier New&quot;,Courier,monospace\">                         \n",
       "q_0: ──■─────────■───────\n",
       "     ┌─┴─┐     ┌─┴─┐     \n",
       "q_1: ┤ X ├──■──┤ X ├──■──\n",
       "     └───┘┌─┴─┐└───┘┌─┴─┐\n",
       "q_2: ─────┤ X ├─────┤ X ├\n",
       "          └───┘     └───┘</pre>"
      ],
      "text/plain": [
       "                         \n",
       "q_0: ──■─────────■───────\n",
       "     ┌─┴─┐     ┌─┴─┐     \n",
       "q_1: ┤ X ├──■──┤ X ├──■──\n",
       "     └───┘┌─┴─┐└───┘┌─┴─┐\n",
       "q_2: ─────┤ X ├─────┤ X ├\n",
       "          └───┘     └───┘"
      ]
     },
     "execution_count": 22,
     "metadata": {},
     "output_type": "execute_result"
    }
   ],
   "source": [
    "# Here is a circuit that implements a cx between qubits 0 and 2, using 1 qubit\n",
    "# to mediate the process\n",
    "sub_circuit = QuantumCircuit(3, name='toggle_cx')\n",
    "sub_circuit.cx(0,1)\n",
    "sub_circuit.cx(1,2)\n",
    "sub_circuit.cx(0,1)\n",
    "sub_circuit.cx(1,2)\n",
    "\n",
    "sub_circuit.draw()"
   ]
  },
  {
   "cell_type": "markdown",
   "metadata": {},
   "source": [
    "turn this to a gate"
   ]
  },
  {
   "cell_type": "code",
   "execution_count": 23,
   "metadata": {},
   "outputs": [],
   "source": [
    "toggle_cx = sub_circuit.to_instruction()"
   ]
  },
  {
   "cell_type": "markdown",
   "metadata": {},
   "source": [
    "and then insert it into other circuits using any set of qubits we choose"
   ]
  },
  {
   "cell_type": "code",
   "execution_count": 27,
   "metadata": {},
   "outputs": [
    {
     "data": {
      "text/html": [
       "<pre style=\"word-wrap: normal;white-space: pre;background: #fff0;line-height: 1.1;font-family: &quot;Courier New&quot;,Courier,monospace\">                    \n",
       "q3_0: ──────────────\n",
       "      ┌────────────┐\n",
       "q3_1: ┤0           ├\n",
       "      │            │\n",
       "q3_2: ┤1 toggle_cx ├\n",
       "      │            │\n",
       "q3_3: ┤2           ├\n",
       "      └────────────┘</pre>"
      ],
      "text/plain": [
       "                    \n",
       "q3_0: ──────────────\n",
       "      ┌────────────┐\n",
       "q3_1: ┤0           ├\n",
       "      │            │\n",
       "q3_2: ┤1 toggle_cx ├\n",
       "      │            │\n",
       "q3_3: ┤2           ├\n",
       "      └────────────┘"
      ]
     },
     "execution_count": 27,
     "metadata": {},
     "output_type": "execute_result"
    }
   ],
   "source": [
    "qr = QuantumRegister(4)\n",
    "new_qc = QuantumCircuit(qr)\n",
    "\n",
    "# draw it before the addition of the toggle_cx gate\n",
    "new_qc.draw()\n",
    "\n",
    "# add the toggle_cx gate\n",
    "new_qc.append(toggle_cx, [qr[1], qr[2], qr[3]])\n",
    "\n",
    "# draw it after the addition of the toggle_cx gate\n",
    "new_qc.draw()\n",
    "\n"
   ]
  },
  {
   "cell_type": "markdown",
   "metadata": {},
   "source": [
    "#### Accessing on real quantum hardware\n",
    "\n",
    "Backend objects can also be set up using the IBMQ package.\n",
    "**nb:** the use of these requires to sign with an IBMQ account."
   ]
  },
  {
   "cell_type": "code",
   "execution_count": null,
   "metadata": {},
   "outputs": [],
   "source": [
    "#TODO\n",
    "# continue with the tutorial"
   ]
  }
 ],
 "metadata": {
  "kernelspec": {
   "display_name": "Python 3.8.12 ('AML')",
   "language": "python",
   "name": "python3"
  },
  "language_info": {
   "codemirror_mode": {
    "name": "ipython",
    "version": 3
   },
   "file_extension": ".py",
   "mimetype": "text/x-python",
   "name": "python",
   "nbconvert_exporter": "python",
   "pygments_lexer": "ipython3",
   "version": "3.8.12"
  },
  "orig_nbformat": 4,
  "vscode": {
   "interpreter": {
    "hash": "280091a7ecf8c7a2ba47fa5c18d0046584a74415f2dd129e55d1de22aaf8969c"
   }
  }
 },
 "nbformat": 4,
 "nbformat_minor": 2
}
